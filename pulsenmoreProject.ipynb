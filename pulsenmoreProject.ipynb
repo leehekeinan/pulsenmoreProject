{
 "cells": [
  {
   "cell_type": "code",
   "execution_count": 283,
   "id": "07b76306",
   "metadata": {},
   "outputs": [],
   "source": [
    "import numpy as np\n",
    "import pandas as pd\n",
    "from matplotlib import pyplot as plt "
   ]
  },
  {
   "cell_type": "code",
   "execution_count": 284,
   "id": "4d2026ea",
   "metadata": {},
   "outputs": [],
   "source": [
    "######################### PART 1 #############################"
   ]
  },
  {
   "cell_type": "code",
   "execution_count": 285,
   "id": "e2c0b092",
   "metadata": {},
   "outputs": [],
   "source": [
    "fd= pd.read_csv(\"C:\\\\Users\\\\User\\\\OneDrive\\\\שולחן העבודה\\\\עבודות\\\\pulsenmore\\\\factory_test_data.csv\")"
   ]
  },
  {
   "cell_type": "code",
   "execution_count": 286,
   "id": "9eaa9bcc",
   "metadata": {},
   "outputs": [
    {
     "name": "stdout",
     "output_type": "stream",
     "text": [
      "<class 'pandas.core.frame.DataFrame'>\n",
      "RangeIndex: 51 entries, 0 to 50\n",
      "Data columns (total 9 columns):\n",
      " #   Column  Non-Null Count  Dtype \n",
      "---  ------  --------------  ----- \n",
      " 0   Y1      51 non-null     int64 \n",
      " 1   X2      51 non-null     object\n",
      " 2   Y2      51 non-null     object\n",
      " 3   X3      51 non-null     object\n",
      " 4   Y3      51 non-null     object\n",
      " 5   X4      51 non-null     object\n",
      " 6   Y4      51 non-null     object\n",
      " 7   X5      51 non-null     object\n",
      " 8   Y5      51 non-null     object\n",
      "dtypes: int64(1), object(8)\n",
      "memory usage: 3.7+ KB\n",
      "None\n"
     ]
    }
   ],
   "source": [
    "#getting info of the table size, the table columns and other technical features.\n",
    "print(fd.info())"
   ]
  },
  {
   "cell_type": "code",
   "execution_count": 287,
   "id": "055b52ff",
   "metadata": {
    "scrolled": false
   },
   "outputs": [
    {
     "name": "stdout",
     "output_type": "stream",
     "text": [
      "Statistics Information:\n"
     ]
    },
    {
     "data": {
      "text/html": [
       "<div>\n",
       "<style scoped>\n",
       "    .dataframe tbody tr th:only-of-type {\n",
       "        vertical-align: middle;\n",
       "    }\n",
       "\n",
       "    .dataframe tbody tr th {\n",
       "        vertical-align: top;\n",
       "    }\n",
       "\n",
       "    .dataframe thead th {\n",
       "        text-align: right;\n",
       "    }\n",
       "</style>\n",
       "<table border=\"1\" class=\"dataframe\">\n",
       "  <thead>\n",
       "    <tr style=\"text-align: right;\">\n",
       "      <th></th>\n",
       "      <th>Y1</th>\n",
       "      <th>X2</th>\n",
       "      <th>Y2</th>\n",
       "      <th>X3</th>\n",
       "      <th>Y3</th>\n",
       "      <th>X4</th>\n",
       "      <th>Y4</th>\n",
       "      <th>X5</th>\n",
       "      <th>Y5</th>\n",
       "    </tr>\n",
       "  </thead>\n",
       "  <tbody>\n",
       "    <tr>\n",
       "      <th>count</th>\n",
       "      <td>51.000000</td>\n",
       "      <td>47.0</td>\n",
       "      <td>47.000000</td>\n",
       "      <td>47.0</td>\n",
       "      <td>47.000000</td>\n",
       "      <td>47.0</td>\n",
       "      <td>47.000000</td>\n",
       "      <td>47.0</td>\n",
       "      <td>47.000000</td>\n",
       "    </tr>\n",
       "    <tr>\n",
       "      <th>mean</th>\n",
       "      <td>1504.960784</td>\n",
       "      <td>18.0</td>\n",
       "      <td>17.425957</td>\n",
       "      <td>14.0</td>\n",
       "      <td>13.452340</td>\n",
       "      <td>12.0</td>\n",
       "      <td>11.673830</td>\n",
       "      <td>9.0</td>\n",
       "      <td>8.346383</td>\n",
       "    </tr>\n",
       "    <tr>\n",
       "      <th>std</th>\n",
       "      <td>71.384861</td>\n",
       "      <td>0.0</td>\n",
       "      <td>4.275727</td>\n",
       "      <td>0.0</td>\n",
       "      <td>0.123732</td>\n",
       "      <td>0.0</td>\n",
       "      <td>1.226748</td>\n",
       "      <td>0.0</td>\n",
       "      <td>0.295807</td>\n",
       "    </tr>\n",
       "    <tr>\n",
       "      <th>min</th>\n",
       "      <td>1487.000000</td>\n",
       "      <td>18.0</td>\n",
       "      <td>7.870000</td>\n",
       "      <td>14.0</td>\n",
       "      <td>13.190000</td>\n",
       "      <td>12.0</td>\n",
       "      <td>9.100000</td>\n",
       "      <td>9.0</td>\n",
       "      <td>7.810000</td>\n",
       "    </tr>\n",
       "    <tr>\n",
       "      <th>25%</th>\n",
       "      <td>1493.000000</td>\n",
       "      <td>18.0</td>\n",
       "      <td>14.825000</td>\n",
       "      <td>14.0</td>\n",
       "      <td>13.395000</td>\n",
       "      <td>12.0</td>\n",
       "      <td>10.965000</td>\n",
       "      <td>9.0</td>\n",
       "      <td>8.195000</td>\n",
       "    </tr>\n",
       "    <tr>\n",
       "      <th>50%</th>\n",
       "      <td>1495.000000</td>\n",
       "      <td>18.0</td>\n",
       "      <td>18.000000</td>\n",
       "      <td>14.0</td>\n",
       "      <td>13.450000</td>\n",
       "      <td>12.0</td>\n",
       "      <td>11.500000</td>\n",
       "      <td>9.0</td>\n",
       "      <td>8.330000</td>\n",
       "    </tr>\n",
       "    <tr>\n",
       "      <th>75%</th>\n",
       "      <td>1497.000000</td>\n",
       "      <td>18.0</td>\n",
       "      <td>20.250000</td>\n",
       "      <td>14.0</td>\n",
       "      <td>13.520000</td>\n",
       "      <td>12.0</td>\n",
       "      <td>12.355000</td>\n",
       "      <td>9.0</td>\n",
       "      <td>8.555000</td>\n",
       "    </tr>\n",
       "    <tr>\n",
       "      <th>max</th>\n",
       "      <td>2004.000000</td>\n",
       "      <td>18.0</td>\n",
       "      <td>25.260000</td>\n",
       "      <td>14.0</td>\n",
       "      <td>13.990000</td>\n",
       "      <td>12.0</td>\n",
       "      <td>14.560000</td>\n",
       "      <td>9.0</td>\n",
       "      <td>9.160000</td>\n",
       "    </tr>\n",
       "  </tbody>\n",
       "</table>\n",
       "</div>"
      ],
      "text/plain": [
       "                Y1    X2         Y2    X3         Y3    X4         Y4    X5  \\\n",
       "count    51.000000  47.0  47.000000  47.0  47.000000  47.0  47.000000  47.0   \n",
       "mean   1504.960784  18.0  17.425957  14.0  13.452340  12.0  11.673830   9.0   \n",
       "std      71.384861   0.0   4.275727   0.0   0.123732   0.0   1.226748   0.0   \n",
       "min    1487.000000  18.0   7.870000  14.0  13.190000  12.0   9.100000   9.0   \n",
       "25%    1493.000000  18.0  14.825000  14.0  13.395000  12.0  10.965000   9.0   \n",
       "50%    1495.000000  18.0  18.000000  14.0  13.450000  12.0  11.500000   9.0   \n",
       "75%    1497.000000  18.0  20.250000  14.0  13.520000  12.0  12.355000   9.0   \n",
       "max    2004.000000  18.0  25.260000  14.0  13.990000  12.0  14.560000   9.0   \n",
       "\n",
       "              Y5  \n",
       "count  47.000000  \n",
       "mean    8.346383  \n",
       "std     0.295807  \n",
       "min     7.810000  \n",
       "25%     8.195000  \n",
       "50%     8.330000  \n",
       "75%     8.555000  \n",
       "max     9.160000  "
      ]
     },
     "execution_count": 287,
     "metadata": {},
     "output_type": "execute_result"
    }
   ],
   "source": [
    "#changing the type of the columns to float, for us to see some very important conclusions from the data like:\n",
    "#number of non empty cells, the avrage of each column, the median (50%) of each column etc.\n",
    "fd['Y2'] = pd.to_numeric(fd['Y2'], errors='coerce').astype(float)\n",
    "fd['Y3'] = pd.to_numeric(fd['Y3'], errors='coerce').astype(float)\n",
    "fd['Y4'] = pd.to_numeric(fd['Y4'], errors='coerce').astype(float)\n",
    "fd['Y5'] = pd.to_numeric(fd['Y5'], errors='coerce').astype(float)\n",
    "fd['X2'] = pd.to_numeric(fd['X2'], errors='coerce').astype(float)\n",
    "fd['X3'] = pd.to_numeric(fd['X3'], errors='coerce').astype(float)\n",
    "fd['X4'] = pd.to_numeric(fd['X4'], errors='coerce').astype(float)\n",
    "fd['X5'] = pd.to_numeric(fd['X5'], errors='coerce').astype(float)\n",
    "print(\"Statistics Information:\")\n",
    "fd.describe()\n",
    "#we can see that the round up of the mean of evrey Y coulumn is the value of the matching X coulumn\n",
    "#and the median is also very close."
   ]
  },
  {
   "cell_type": "code",
   "execution_count": 288,
   "id": "7883c375",
   "metadata": {},
   "outputs": [],
   "source": [
    "# I can see that the independent variables (the 'X' columns) arent changing so I see here two options:\n",
    "# 1.the X variabels are the optimal value we want to gain, while the Y variabels (except Y1) are the actual result\n",
    "# that we got for our tests.\n",
    "# 2. the X varaibels were unchanging terms. like: number of hours the devices were at action or maybe number of \n",
    "# minutes we tested the devise in some special machine etc."
   ]
  },
  {
   "cell_type": "code",
   "execution_count": 289,
   "id": "8eea7df5",
   "metadata": {},
   "outputs": [],
   "source": [
    "# so, i want to check maybe the Y variabels are also corresponding to other Y varaibels, I will ust the correlation method:"
   ]
  },
  {
   "cell_type": "code",
   "execution_count": 290,
   "id": "2fd6bfcf",
   "metadata": {
    "scrolled": true
   },
   "outputs": [
    {
     "name": "stdout",
     "output_type": "stream",
     "text": [
      "          Y1        Y2        Y3        Y4        Y5\n",
      "Y1  1.000000  0.018849  0.656064  0.021524  0.140212\n",
      "Y2  0.018849  1.000000 -0.240859  0.198719 -0.103861\n",
      "Y3  0.656064 -0.240859  1.000000  0.030517  0.075728\n",
      "Y4  0.021524  0.198719  0.030517  1.000000 -0.171900\n",
      "Y5  0.140212 -0.103861  0.075728 -0.171900  1.000000\n"
     ]
    }
   ],
   "source": [
    "#checking linear correlation between the variabels\n",
    "y_variables = ['Y1', 'Y2', 'Y3', 'Y4', 'Y5']\n",
    "correlation_matrix = fd[y_variables].corr()\n",
    "print(correlation_matrix)"
   ]
  },
  {
   "cell_type": "code",
   "execution_count": 291,
   "id": "ac7385ba",
   "metadata": {},
   "outputs": [],
   "source": [
    "#we can see that between the features (Y varabiles) there are a very little correlation,\n",
    "#but we can understand from the data that there is a weak positive correlation between Y1 and Y4\n",
    "#and a weak negative correlation between Y2 and Y3"
   ]
  },
  {
   "cell_type": "code",
   "execution_count": 292,
   "id": "39dcfe88",
   "metadata": {},
   "outputs": [],
   "source": [
    "#we can see that there is a stronger coralation than before between the sum of all the feature to Y1"
   ]
  },
  {
   "cell_type": "code",
   "execution_count": 293,
   "id": "b31e872e",
   "metadata": {},
   "outputs": [],
   "source": [
    "####################### PART 2 #############################"
   ]
  },
  {
   "cell_type": "code",
   "execution_count": 294,
   "id": "426f7844",
   "metadata": {},
   "outputs": [
    {
     "data": {
      "text/plain": [
       "([], [])"
      ]
     },
     "execution_count": 294,
     "metadata": {},
     "output_type": "execute_result"
    },
    {
     "data": {
      "image/png": "[encoded data removed]",
      "text/plain": [
       "<Figure size 640x480 with 1 Axes>"
      ]
     },
     "metadata": {},
     "output_type": "display_data"
    }
   ],
   "source": [
    "fd['X2'] = pd.to_numeric(fd['X2'], errors='coerce').astype(float)\n",
    "#as I show before, we can see that the values of Y2 are close to the value 18 (of X2),\n",
    "# I can see a trend that feature Y2 is arround 18, the man is very close to 18 and the median is exactly 18. \n",
    "plt.plot(fd.Y2,'o',label=\"Y2\")\n",
    "plt.plot([18]* 51, c= 'red', linewidth=3, label=\"X2\")\n",
    "plt.title(\"Scatter Plot of X2 vs Y2\")\n",
    "plt.legend()\n",
    "plt.xticks([])"
   ]
  },
  {
   "cell_type": "code",
   "execution_count": 295,
   "id": "aa8e72b2",
   "metadata": {},
   "outputs": [
    {
     "data": {
      "text/plain": [
       "([], [])"
      ]
     },
     "execution_count": 295,
     "metadata": {},
     "output_type": "execute_result"
    },
    {
     "data": {
      "image/png": "[encoded data removed]",
      "text/plain": [
       "<Figure size 640x480 with 1 Axes>"
      ]
     },
     "metadata": {},
     "output_type": "display_data"
    }
   ],
   "source": [
    "fd['X3'] = pd.to_numeric(fd['X3'], errors='coerce').astype(float)\n",
    "#the values of Y3 are close to the value 14 (of X3),\n",
    "# I can see a trend that the feature Y3 is maximum 14 and is allways around 13-14 as well, even between 13.3-13.7 except for \n",
    "# two exceptions.\n",
    "plt.plot(fd.Y3,'o',label=\"Y3\")\n",
    "plt.plot([14]* 51, c= 'red', linewidth=3, label=\"X3\")\n",
    "plt.title(\"Scatter Plot of X3 vs Y3\")\n",
    "plt.legend(loc=\"lower right\")\n",
    "plt.xticks([])"
   ]
  },
  {
   "cell_type": "code",
   "execution_count": 296,
   "id": "cdda7b63",
   "metadata": {},
   "outputs": [
    {
     "data": {
      "text/plain": [
       "([], [])"
      ]
     },
     "execution_count": 296,
     "metadata": {},
     "output_type": "execute_result"
    },
    {
     "data": {
      "image/png": "[encoded data removed]",
      "text/plain": [
       "<Figure size 640x480 with 1 Axes>"
      ]
     },
     "metadata": {},
     "output_type": "display_data"
    }
   ],
   "source": [
    "fd['X4'] = pd.to_numeric(fd['X4'], errors='coerce').astype(float)\n",
    "#the values of Y4 are close to the value 12 (of X2),\n",
    "# I can see the trend for the feature Y4 is arround 12, his mean is 11.65 and median is 11.5 and most of the values at the \n",
    "#sample group are between 10-13\n",
    "plt.plot(fd.Y4,'o',label=\"Y4\")\n",
    "plt.plot([12]* 51, c= 'red', linewidth=3, label=\"X4\")\n",
    "plt.title(\"Scatter Plot of X4 vs Y4\")\n",
    "plt.legend(loc=\"lower right\")\n",
    "plt.xticks([])"
   ]
  },
  {
   "cell_type": "code",
   "execution_count": 297,
   "id": "14568fbe",
   "metadata": {},
   "outputs": [
    {
     "data": {
      "text/plain": [
       "([], [])"
      ]
     },
     "execution_count": 297,
     "metadata": {},
     "output_type": "execute_result"
    },
    {
     "data": {
      "image/png": "[encoded data removed]",
      "text/plain": [
       "<Figure size 640x480 with 1 Axes>"
      ]
     },
     "metadata": {},
     "output_type": "display_data"
    }
   ],
   "source": [
    "fd['X5'] = pd.to_numeric(fd['X5'], errors='coerce').astype(float)\n",
    "#the values of Y5 are close to the value 9 (of X2),\n",
    "# I can see the trend for the feature Y5 is arround 9, his mean is 8.34 and median is 8.33 and most of the values at the \n",
    "#sample group are bellow 9\n",
    "plt.plot(fd.Y5,'o',label=\"Y5\")\n",
    "plt.plot([9]* 51, c= 'red', linewidth=3, label=\"X5\")\n",
    "plt.title(\"Scatter Plot of X5 vs Y5\")\n",
    "plt.legend()\n",
    "plt.xticks([])"
   ]
  },
  {
   "cell_type": "code",
   "execution_count": 298,
   "id": "646e011e",
   "metadata": {},
   "outputs": [
    {
     "data": {
      "image/png": "[encoded data removed]",
      "text/plain": [
       "<Figure size 1000x300 with 5 Axes>"
      ]
     },
     "metadata": {},
     "output_type": "display_data"
    }
   ],
   "source": [
    "fig, axs = plt.subplots(1, 5, figsize=(10, 3))\n",
    "\n",
    "\n",
    "axs[0].hist(fd['Y1'], bins=10)\n",
    "axs[0].set_xlabel('Y1')\n",
    "axs[0].set_ylabel('Frequency')\n",
    "axs[0].set_title('Histogram of Y1')\n",
    "\n",
    "axs[1].hist(fd['Y2'], bins=10)\n",
    "axs[1].set_xlabel('Y2')\n",
    "axs[1].set_ylabel('Frequency')\n",
    "axs[1].set_title('Histogram of Y2')\n",
    "\n",
    "axs[2].hist(fd['Y3'], bins=10)\n",
    "axs[2].set_xlabel('Y3')\n",
    "axs[2].set_ylabel('Frequency')\n",
    "axs[2].set_title('Histogram of Y3')\n",
    "\n",
    "axs[3].hist(fd['Y4'], bins=10)\n",
    "axs[3].set_xlabel('Y4')\n",
    "axs[3].set_ylabel('Frequency')\n",
    "axs[3].set_title('Histogram of Y4')\n",
    "\n",
    "axs[4].hist(fd['Y5'], bins=10)\n",
    "axs[4].set_xlabel('Y5')\n",
    "axs[4].set_ylabel('Frequency')\n",
    "axs[4].set_title('Histogram of Y5')\n",
    "\n",
    "plt.tight_layout() \n",
    "#here we can see the distribution of each Y varaible and as we suspected, the are all close to their mathcing X variable."
   ]
  },
  {
   "cell_type": "code",
   "execution_count": 299,
   "id": "a6782210",
   "metadata": {},
   "outputs": [],
   "source": [
    "######################### PART 3 #############################"
   ]
  },
  {
   "cell_type": "code",
   "execution_count": 300,
   "id": "c9a3ba49",
   "metadata": {},
   "outputs": [],
   "source": [
    "#for preprocessing the data, I would like to do two things:\n",
    "# 1. to add the missing values\n",
    "# 2. to normalize the data"
   ]
  },
  {
   "cell_type": "code",
   "execution_count": 301,
   "id": "7b0d4411",
   "metadata": {},
   "outputs": [],
   "source": [
    "mean_value = fd.mean()\n",
    "fd = fd.fillna(mean_value)\n",
    "fd = fd.round(2)"
   ]
  },
  {
   "cell_type": "code",
   "execution_count": 302,
   "id": "aa6e9276",
   "metadata": {},
   "outputs": [
    {
     "name": "stdout",
     "output_type": "stream",
     "text": [
      "          Y1    X2        Y2    X3      Y3    X4        Y4   X5        Y5\n",
      "0   0.007737  18.0  0.513514  14.0  0.1750  12.0  0.369963  9.0  0.385185\n",
      "1   0.007737  18.0  0.549741  14.0  0.3250  12.0  0.470696  9.0  0.400000\n",
      "2   1.000000  18.0  0.579068  14.0  1.0000  12.0  0.479853  9.0  0.622222\n",
      "3   0.011605  18.0  0.549741  14.0  0.3250  12.0  0.470696  9.0  0.400000\n",
      "4   0.019342  18.0  0.582519  14.0  0.5000  12.0  0.697802  9.0  0.007407\n",
      "5   0.021277  18.0  0.000000  14.0  0.4125  12.0  0.441392  9.0  0.355556\n",
      "6   0.009671  18.0  0.710753  14.0  0.2750  12.0  0.115385  9.0  0.570370\n",
      "7   0.017408  18.0  0.549741  14.0  0.3250  12.0  0.470696  9.0  0.400000\n",
      "8   0.011605  18.0  0.826337  14.0  0.1000  12.0  0.386447  9.0  0.318519\n",
      "9   0.011605  18.0  0.549741  14.0  0.3250  12.0  0.470696  9.0  0.400000\n",
      "10  0.017408  18.0  0.969523  14.0  0.1250  12.0  0.653846  9.0  0.303704\n",
      "11  0.027079  18.0  0.843588  14.0  0.2375  12.0  1.000000  9.0  0.392593\n",
      "12  0.000000  18.0  0.682001  14.0  0.1375  12.0  0.410256  9.0  0.407407\n",
      "13  0.019342  18.0  0.683726  14.0  0.2875  12.0  0.439560  9.0  0.333333\n",
      "14  0.021277  18.0  0.462335  14.0  0.2750  12.0  0.274725  9.0  0.422222\n",
      "15  0.021277  18.0  0.504888  14.0  0.3125  12.0  0.362637  9.0  0.355556\n",
      "16  0.011605  18.0  0.841863  14.0  0.3500  12.0  0.375458  9.0  0.000000\n",
      "17  0.017408  18.0  1.000000  14.0  0.1250  12.0  0.930403  9.0  0.133333\n",
      "18  0.019342  18.0  0.273721  14.0  0.4250  12.0  0.406593  9.0  0.355556\n",
      "19  0.007737  18.0  0.379528  14.0  0.3500  12.0  0.668498  9.0  0.288889\n",
      "20  0.007737  18.0  0.614146  14.0  0.0000  12.0  0.000000  9.0  0.362963\n",
      "21  0.015474  18.0  0.112133  14.0  0.4250  12.0  0.399267  9.0  0.577778\n",
      "22  0.001934  18.0  0.726279  14.0  0.2500  12.0  0.318681  9.0  0.600000\n",
      "23  0.015474  18.0  0.713053  14.0  0.4250  12.0  0.324176  9.0  0.355556\n",
      "24  0.017408  18.0  0.493962  14.0  0.3250  12.0  0.479853  9.0  0.385185\n",
      "25  0.017408  18.0  0.771708  14.0  0.3375  12.0  0.562271  9.0  0.059259\n",
      "26  0.015474  18.0  0.841288  14.0  0.1875  12.0  0.769231  9.0  0.466667\n",
      "27  0.007737  18.0  0.451984  14.0  0.2750  12.0  0.437729  9.0  1.000000\n",
      "28  0.044487  18.0  0.904543  14.0  0.3375  12.0  0.891941  9.0  0.244444\n",
      "29  0.013540  18.0  0.525014  14.0  0.2875  12.0  0.214286  9.0  0.496296\n",
      "30  0.011605  18.0  0.498562  14.0  0.4750  12.0  0.608059  9.0  0.162963\n",
      "31  0.001934  18.0  0.705003  14.0  0.4125  12.0  0.595238  9.0  0.718519\n",
      "32  0.011605  18.0  0.420357  14.0  0.2375  12.0  0.816850  9.0  0.622222\n",
      "33  0.025145  18.0  0.522714  14.0  0.3625  12.0  0.395604  9.0  0.933333\n",
      "34  0.013540  18.0  0.756757  14.0  0.4375  12.0  0.597070  9.0  0.207407\n",
      "35  0.015474  18.0  0.535365  14.0  0.2625  12.0  0.584249  9.0  0.600000\n",
      "36  0.030948  18.0  0.612996  14.0  0.3625  12.0  0.554945  9.0  0.429630\n",
      "37  0.019342  18.0  0.780909  14.0  0.3500  12.0  0.133700  9.0  0.185185\n",
      "38  0.011605  18.0  0.281196  14.0  0.4375  12.0  0.201465  9.0  0.592593\n",
      "39  0.019342  18.0  0.654974  14.0  0.2625  12.0  0.521978  9.0  0.281481\n",
      "40  0.013540  18.0  0.235193  14.0  0.2250  12.0  0.358974  9.0  0.622222\n",
      "41  0.017408  18.0  0.696377  14.0  0.2625  12.0  0.150183  9.0  0.533333\n",
      "42  0.021277  18.0  0.282346  14.0  0.3000  12.0  0.124542  9.0  0.066667\n",
      "43  0.025145  18.0  0.178263  14.0  0.5875  12.0  0.432234  9.0  0.400000\n",
      "44  0.013540  18.0  0.019551  14.0  0.1500  12.0  0.595238  9.0  0.251852\n",
      "45  0.007737  18.0  0.647499  14.0  0.4125  12.0  0.595238  9.0  0.414815\n",
      "46  0.015474  18.0  0.357102  14.0  0.3375  12.0  0.826007  9.0  0.348148\n",
      "47  0.013540  18.0  0.591144  14.0  0.3000  12.0  0.280220  9.0  0.429630\n",
      "48  0.007737  18.0  0.289822  14.0  0.4000  12.0  0.282051  9.0  0.311111\n",
      "49  0.015474  18.0  0.631972  14.0  0.5000  12.0  0.446886  9.0  0.725926\n",
      "50  0.023211  18.0  0.121334  14.0  0.4000  12.0  0.644689  9.0  0.037037\n"
     ]
    }
   ],
   "source": [
    "# 2. normalize the data:\n",
    "normalized_fd = fd.copy()\n",
    "columns_to_normalize = ['Y1', 'Y2', 'Y3', 'Y4', 'Y5']\n",
    "normalized_fd[columns_to_normalize] = normalized_fd[columns_to_normalize].apply(lambda x: (x - x.min()) / (x.max() - x.min()))\n",
    "print(normalized_fd)"
   ]
  },
  {
   "cell_type": "code",
   "execution_count": 303,
   "id": "4c731583",
   "metadata": {},
   "outputs": [],
   "source": [
    "# we can see above the normalize data that we now have"
   ]
  },
  {
   "cell_type": "code",
   "execution_count": 304,
   "id": "8cc0b5f0",
   "metadata": {},
   "outputs": [],
   "source": [
    "############################## PART 4 #################################"
   ]
  },
  {
   "cell_type": "code",
   "execution_count": 305,
   "id": "1e071627",
   "metadata": {},
   "outputs": [],
   "source": [
    "new_fd= pd.read_csv(\"C:\\\\Users\\\\User\\\\OneDrive\\\\שולחן העבודה\\\\עבודות\\\\pulsenmore\\\\new_devices.csv\")"
   ]
  },
  {
   "cell_type": "code",
   "execution_count": 306,
   "id": "52d343e6",
   "metadata": {},
   "outputs": [
    {
     "data": {
      "text/html": [
       "<div>\n",
       "<style scoped>\n",
       "    .dataframe tbody tr th:only-of-type {\n",
       "        vertical-align: middle;\n",
       "    }\n",
       "\n",
       "    .dataframe tbody tr th {\n",
       "        vertical-align: top;\n",
       "    }\n",
       "\n",
       "    .dataframe thead th {\n",
       "        text-align: right;\n",
       "    }\n",
       "</style>\n",
       "<table border=\"1\" class=\"dataframe\">\n",
       "  <thead>\n",
       "    <tr style=\"text-align: right;\">\n",
       "      <th></th>\n",
       "      <th>ID</th>\n",
       "      <th>Y1</th>\n",
       "      <th>X2</th>\n",
       "      <th>Y2</th>\n",
       "      <th>X3</th>\n",
       "      <th>Y3</th>\n",
       "      <th>X4</th>\n",
       "      <th>Y4</th>\n",
       "      <th>X5</th>\n",
       "      <th>Y5</th>\n",
       "    </tr>\n",
       "  </thead>\n",
       "  <tbody>\n",
       "    <tr>\n",
       "      <th>0</th>\n",
       "      <td>1</td>\n",
       "      <td>1557</td>\n",
       "      <td>18</td>\n",
       "      <td>16.15</td>\n",
       "      <td>14</td>\n",
       "      <td>13.55</td>\n",
       "      <td>12</td>\n",
       "      <td>11.28</td>\n",
       "      <td>9</td>\n",
       "      <td>8.33</td>\n",
       "    </tr>\n",
       "    <tr>\n",
       "      <th>1</th>\n",
       "      <td>2</td>\n",
       "      <td>1497</td>\n",
       "      <td>18</td>\n",
       "      <td>18.31</td>\n",
       "      <td>14</td>\n",
       "      <td>13.44</td>\n",
       "      <td>12</td>\n",
       "      <td>11.65</td>\n",
       "      <td>9</td>\n",
       "      <td>8.34</td>\n",
       "    </tr>\n",
       "    <tr>\n",
       "      <th>2</th>\n",
       "      <td>3</td>\n",
       "      <td>1495</td>\n",
       "      <td>18</td>\n",
       "      <td>17.48</td>\n",
       "      <td>14</td>\n",
       "      <td>13.39</td>\n",
       "      <td>12</td>\n",
       "      <td>11.52</td>\n",
       "      <td>9</td>\n",
       "      <td>8.03</td>\n",
       "    </tr>\n",
       "  </tbody>\n",
       "</table>\n",
       "</div>"
      ],
      "text/plain": [
       "   ID    Y1  X2     Y2  X3     Y3  X4     Y4  X5    Y5\n",
       "0   1  1557  18  16.15  14  13.55  12  11.28   9  8.33\n",
       "1   2  1497  18  18.31  14  13.44  12  11.65   9  8.34\n",
       "2   3  1495  18  17.48  14  13.39  12  11.52   9  8.03"
      ]
     },
     "execution_count": 306,
     "metadata": {},
     "output_type": "execute_result"
    }
   ],
   "source": [
    "new_fd.head()"
   ]
  },
  {
   "cell_type": "code",
   "execution_count": 307,
   "id": "634a7e0e",
   "metadata": {},
   "outputs": [],
   "source": [
    "new_fd['Y2'] = pd.to_numeric(new_fd['Y2'], errors='coerce').astype(float)\n",
    "new_fd['Y3'] = pd.to_numeric(new_fd['Y3'], errors='coerce').astype(float)\n",
    "new_fd['Y4'] = pd.to_numeric(new_fd['Y4'], errors='coerce').astype(float)\n",
    "new_fd['Y5'] = pd.to_numeric(new_fd['Y5'], errors='coerce').astype(float)"
   ]
  },
  {
   "cell_type": "code",
   "execution_count": 308,
   "id": "d36d65ac",
   "metadata": {},
   "outputs": [
    {
     "data": {
      "text/plain": [
       "Text(0.5, 1.0, 'Distribution of Y1 Values')"
      ]
     },
     "execution_count": 308,
     "metadata": {},
     "output_type": "execute_result"
    },
    {
     "data": {
      "image/png": "[encoded data removed]",
      "text/plain": [
       "<Figure size 300x300 with 1 Axes>"
      ]
     },
     "metadata": {},
     "output_type": "display_data"
    }
   ],
   "source": [
    "#I will check the probability of each of these three devices to the sanple group by checking their distance from the median\n",
    "#of each feature. \n",
    "#before I begin, i want to examine the column Y1. I can see from the box plot that in this column there is 2 exceptions.\n",
    "plt.figure(figsize=(3,3))\n",
    "plt.boxplot(fd['Y1'])\n",
    "plt.title(\"Distribution of Y1 Values\")"
   ]
  },
  {
   "cell_type": "code",
   "execution_count": 309,
   "id": "4ce6e3c6",
   "metadata": {},
   "outputs": [
    {
     "data": {
      "text/plain": [
       "<matplotlib.collections.PathCollection at 0x28b6654fc90>"
      ]
     },
     "execution_count": 309,
     "metadata": {},
     "output_type": "execute_result"
    },
    {
     "data": {
      "image/png": "[encoded data removed]",
      "text/plain": [
       "<Figure size 300x300 with 1 Axes>"
      ]
     },
     "metadata": {},
     "output_type": "display_data"
    }
   ],
   "source": [
    "# now, let's add the Y1 values of the new devices:\n",
    "plt.figure(figsize=(3,3))\n",
    "plt.boxplot(fd['Y1'])\n",
    "plt.title(\"Distribution of Y1 Values\")\n",
    "plt.scatter(np.repeat(1, 1), 1557, color='red', label='first new value')\n",
    "plt.scatter(np.repeat(1, 1), 1497, color='green', label='second new Value')\n",
    "plt.scatter(np.repeat(1, 1), 1495, color='blue', label='third new Value')\n",
    "# I can see that the red dot is also an exception so I'm assuming that the first device will be with the smallest probebility\n",
    "#to be a part of the sample group."
   ]
  },
  {
   "cell_type": "code",
   "execution_count": 310,
   "id": "697150a0",
   "metadata": {},
   "outputs": [
    {
     "data": {
      "image/png": "[encoded data removed]",
      "text/plain": [
       "<Figure size 400x300 with 1 Axes>"
      ]
     },
     "metadata": {},
     "output_type": "display_data"
    }
   ],
   "source": [
    "#now, I will check all the new devices, by checking their probability to belong to the sample group. i will use the method\n",
    "#that calculate their distance from the median of each column.\n",
    "ranked_devices = pd.DataFrame(columns=['Device', 'Probability'])\n",
    "\n",
    "for i, row in new_fd.iterrows():\n",
    "    device_id = row['ID']\n",
    "    X = row[['Y2', 'Y3', 'Y4', 'Y5']].values\n",
    "    y = row['Y1']\n",
    "    \n",
    "    # Calculate the probability using the given formula\n",
    "    probability = 1/ (1+np.abs(fd[['Y2', 'Y3', 'Y4', 'Y5']].median().values - X).sum())\n",
    "    \n",
    "    ranked_devices = pd.concat([ranked_devices, pd.DataFrame({'Device': [device_id], 'Probability': [probability]})], ignore_index=True)\n",
    "\n",
    "ranked_devices.sort_values('Probability', ascending=True, inplace=True)\n",
    "\n",
    "plt.figure(figsize=(4, 3))\n",
    "plt.barh(range(len(ranked_devices)), ranked_devices['Probability'])\n",
    "plt.yticks(range(len(ranked_devices)), ranked_devices['Device'])\n",
    "plt.title(\"Ranking of New Devices\")\n",
    "plt.xlabel(\"Probability\")\n",
    "plt.ylabel(\"Device\")\n",
    "plt.show()"
   ]
  },
  {
   "cell_type": "code",
   "execution_count": 311,
   "id": "640107c1",
   "metadata": {},
   "outputs": [],
   "source": [
    "#we can see that the second device have the most probability to be a part of the sample group,\n",
    "#the third device is the second, and as predicted the first one have the least probability to be a part of the sample group."
   ]
  },
  {
   "cell_type": "code",
   "execution_count": 312,
   "id": "84ca8bc8",
   "metadata": {},
   "outputs": [],
   "source": [
    "######################### PART 5 #############################"
   ]
  },
  {
   "cell_type": "code",
   "execution_count": 313,
   "id": "571a7af9",
   "metadata": {},
   "outputs": [],
   "source": [
    "# for this part, we need to set up the terms for a working device and for a failing device.\n",
    "# I consider that the X varaibels are the optimal variabels \n",
    "#so, i will determine the terms to pass the test like this:\n",
    "# device j will pass if for evrey 1<i<6  Xi-std <Yi< Xi+std or Yi.mean- std <Yi <Yi.mean+std\n",
    "#therefore, a device will be working if his values are close to the optimum values or his values are close to most of the\n",
    "#other group values.\n",
    "#so, to determine if a device is working, we will check all of his Y varaibels and if he will pass all the 4 tests,\n",
    "#the devise will consider to be working. otherwise, the device is fail.\n",
    "#before I start, I want to combine our files together so i can check which devices passing the tests.\n",
    "new_fd = new_fd.drop('ID', axis=1)\n",
    "df = pd.concat([fd, new_fd], ignore_index=True)"
   ]
  },
  {
   "cell_type": "code",
   "execution_count": 314,
   "id": "e970734a",
   "metadata": {},
   "outputs": [
    {
     "name": "stdout",
     "output_type": "stream",
     "text": [
      "Working Devices:\n",
      "{'Y1': 1491.0, 'X2': 18.0, 'Y2': 17.43, 'X3': 14.0, 'Y3': 13.45, 'X4': 12.0, 'Y4': 11.67, 'X5': 9.0, 'Y5': 8.35}\n",
      "\n",
      "{'Y1': 1493.0, 'X2': 18.0, 'Y2': 17.43, 'X3': 14.0, 'Y3': 13.45, 'X4': 12.0, 'Y4': 11.67, 'X5': 9.0, 'Y5': 8.35}\n",
      "\n",
      "{'Y1': 1496.0, 'X2': 18.0, 'Y2': 17.43, 'X3': 14.0, 'Y3': 13.45, 'X4': 12.0, 'Y4': 11.67, 'X5': 9.0, 'Y5': 8.35}\n",
      "\n",
      "{'Y1': 1493.0, 'X2': 18.0, 'Y2': 17.43, 'X3': 14.0, 'Y3': 13.45, 'X4': 12.0, 'Y4': 11.67, 'X5': 9.0, 'Y5': 8.35}\n",
      "\n",
      "{'Y1': 1497.0, 'X2': 18.0, 'Y2': 19.76, 'X3': 14.0, 'Y3': 13.42, 'X4': 12.0, 'Y4': 11.5, 'X5': 9.0, 'Y5': 8.26}\n",
      "\n",
      "{'Y1': 1498.0, 'X2': 18.0, 'Y2': 15.91, 'X3': 14.0, 'Y3': 13.41, 'X4': 12.0, 'Y4': 10.6, 'X5': 9.0, 'Y5': 8.38}\n",
      "\n",
      "{'Y1': 1498.0, 'X2': 18.0, 'Y2': 16.65, 'X3': 14.0, 'Y3': 13.44, 'X4': 12.0, 'Y4': 11.08, 'X5': 9.0, 'Y5': 8.29}\n",
      "\n",
      "{'Y1': 1491.0, 'X2': 18.0, 'Y2': 14.47, 'X3': 14.0, 'Y3': 13.47, 'X4': 12.0, 'Y4': 12.75, 'X5': 9.0, 'Y5': 8.2}\n",
      "\n",
      "{'Y1': 1495.0, 'X2': 18.0, 'Y2': 20.27, 'X3': 14.0, 'Y3': 13.53, 'X4': 12.0, 'Y4': 10.87, 'X5': 9.0, 'Y5': 8.29}\n",
      "\n",
      "{'Y1': 1496.0, 'X2': 18.0, 'Y2': 16.46, 'X3': 14.0, 'Y3': 13.45, 'X4': 12.0, 'Y4': 11.72, 'X5': 9.0, 'Y5': 8.33}\n",
      "\n",
      "{'Y1': 1491.0, 'X2': 18.0, 'Y2': 15.73, 'X3': 14.0, 'Y3': 13.41, 'X4': 12.0, 'Y4': 11.49, 'X5': 9.0, 'Y5': 9.16}\n",
      "\n",
      "{'Y1': 1488.0, 'X2': 18.0, 'Y2': 20.13, 'X3': 14.0, 'Y3': 13.52, 'X4': 12.0, 'Y4': 12.35, 'X5': 9.0, 'Y5': 8.78}\n",
      "\n",
      "{'Y1': 1500.0, 'X2': 18.0, 'Y2': 16.96, 'X3': 14.0, 'Y3': 13.48, 'X4': 12.0, 'Y4': 11.26, 'X5': 9.0, 'Y5': 9.07}\n",
      "\n",
      "{'Y1': 1494.0, 'X2': 18.0, 'Y2': 21.03, 'X3': 14.0, 'Y3': 13.54, 'X4': 12.0, 'Y4': 12.36, 'X5': 9.0, 'Y5': 8.09}\n",
      "\n",
      "{'Y1': 1503.0, 'X2': 18.0, 'Y2': 18.53, 'X3': 14.0, 'Y3': 13.48, 'X4': 12.0, 'Y4': 12.13, 'X5': 9.0, 'Y5': 8.39}\n",
      "\n",
      "{'Y1': 1497.0, 'X2': 18.0, 'Y2': 19.26, 'X3': 14.0, 'Y3': 13.4, 'X4': 12.0, 'Y4': 11.95, 'X5': 9.0, 'Y5': 8.19}\n",
      "\n",
      "{'Y1': 1491.0, 'X2': 18.0, 'Y2': 19.13, 'X3': 14.0, 'Y3': 13.52, 'X4': 12.0, 'Y4': 12.35, 'X5': 9.0, 'Y5': 8.37}\n",
      "\n",
      "{'Y1': 1494.0, 'X2': 18.0, 'Y2': 18.15, 'X3': 14.0, 'Y3': 13.43, 'X4': 12.0, 'Y4': 10.63, 'X5': 9.0, 'Y5': 8.39}\n",
      "\n",
      "{'Y1': 1557.0, 'X2': 18.0, 'Y2': 16.15, 'X3': 14.0, 'Y3': 13.55, 'X4': 12.0, 'Y4': 11.28, 'X5': 9.0, 'Y5': 8.33}\n",
      "\n",
      "{'Y1': 1497.0, 'X2': 18.0, 'Y2': 18.31, 'X3': 14.0, 'Y3': 13.44, 'X4': 12.0, 'Y4': 11.65, 'X5': 9.0, 'Y5': 8.34}\n",
      "\n",
      "Failed Devices:\n",
      "{'Y1': 1491.0, 'X2': 18.0, 'Y2': 16.8, 'X3': 14.0, 'Y3': 13.33, 'X4': 12.0, 'Y4': 11.12, 'X5': 9.0, 'Y5': 8.33}\n",
      "\n",
      "{'Y1': 2004.0, 'X2': 18.0, 'Y2': 17.94, 'X3': 14.0, 'Y3': 13.99, 'X4': 12.0, 'Y4': 11.72, 'X5': 9.0, 'Y5': 8.65}\n",
      "\n",
      "{'Y1': 1497.0, 'X2': 18.0, 'Y2': 18.0, 'X3': 14.0, 'Y3': 13.59, 'X4': 12.0, 'Y4': 12.91, 'X5': 9.0, 'Y5': 7.82}\n",
      "\n",
      "{'Y1': 1498.0, 'X2': 18.0, 'Y2': 7.87, 'X3': 14.0, 'Y3': 13.52, 'X4': 12.0, 'Y4': 11.51, 'X5': 9.0, 'Y5': 8.29}\n",
      "\n",
      "{'Y1': 1492.0, 'X2': 18.0, 'Y2': 20.23, 'X3': 14.0, 'Y3': 13.41, 'X4': 12.0, 'Y4': 9.73, 'X5': 9.0, 'Y5': 8.58}\n",
      "\n",
      "{'Y1': 1493.0, 'X2': 18.0, 'Y2': 22.24, 'X3': 14.0, 'Y3': 13.27, 'X4': 12.0, 'Y4': 11.21, 'X5': 9.0, 'Y5': 8.24}\n",
      "\n",
      "{'Y1': 1496.0, 'X2': 18.0, 'Y2': 24.73, 'X3': 14.0, 'Y3': 13.29, 'X4': 12.0, 'Y4': 12.67, 'X5': 9.0, 'Y5': 8.22}\n",
      "\n",
      "{'Y1': 1501.0, 'X2': 18.0, 'Y2': 22.54, 'X3': 14.0, 'Y3': 13.38, 'X4': 12.0, 'Y4': 14.56, 'X5': 9.0, 'Y5': 8.34}\n",
      "\n",
      "{'Y1': 1487.0, 'X2': 18.0, 'Y2': 19.73, 'X3': 14.0, 'Y3': 13.3, 'X4': 12.0, 'Y4': 11.34, 'X5': 9.0, 'Y5': 8.36}\n",
      "\n",
      "{'Y1': 1493.0, 'X2': 18.0, 'Y2': 22.51, 'X3': 14.0, 'Y3': 13.47, 'X4': 12.0, 'Y4': 11.15, 'X5': 9.0, 'Y5': 7.81}\n",
      "\n",
      "{'Y1': 1496.0, 'X2': 18.0, 'Y2': 25.26, 'X3': 14.0, 'Y3': 13.29, 'X4': 12.0, 'Y4': 14.18, 'X5': 9.0, 'Y5': 7.99}\n",
      "\n",
      "{'Y1': 1497.0, 'X2': 18.0, 'Y2': 12.63, 'X3': 14.0, 'Y3': 13.53, 'X4': 12.0, 'Y4': 11.32, 'X5': 9.0, 'Y5': 8.29}\n",
      "\n",
      "{'Y1': 1491.0, 'X2': 18.0, 'Y2': 18.55, 'X3': 14.0, 'Y3': 13.19, 'X4': 12.0, 'Y4': 9.1, 'X5': 9.0, 'Y5': 8.3}\n",
      "\n",
      "{'Y1': 1495.0, 'X2': 18.0, 'Y2': 9.82, 'X3': 14.0, 'Y3': 13.53, 'X4': 12.0, 'Y4': 11.28, 'X5': 9.0, 'Y5': 8.59}\n",
      "\n",
      "{'Y1': 1488.0, 'X2': 18.0, 'Y2': 20.5, 'X3': 14.0, 'Y3': 13.39, 'X4': 12.0, 'Y4': 10.84, 'X5': 9.0, 'Y5': 8.62}\n",
      "\n",
      "{'Y1': 1496.0, 'X2': 18.0, 'Y2': 21.29, 'X3': 14.0, 'Y3': 13.46, 'X4': 12.0, 'Y4': 12.17, 'X5': 9.0, 'Y5': 7.89}\n",
      "\n",
      "{'Y1': 1495.0, 'X2': 18.0, 'Y2': 22.5, 'X3': 14.0, 'Y3': 13.34, 'X4': 12.0, 'Y4': 13.3, 'X5': 9.0, 'Y5': 8.44}\n",
      "\n",
      "{'Y1': 1510.0, 'X2': 18.0, 'Y2': 23.6, 'X3': 14.0, 'Y3': 13.46, 'X4': 12.0, 'Y4': 13.97, 'X5': 9.0, 'Y5': 8.14}\n",
      "\n",
      "{'Y1': 1494.0, 'X2': 18.0, 'Y2': 17.0, 'X3': 14.0, 'Y3': 13.42, 'X4': 12.0, 'Y4': 10.27, 'X5': 9.0, 'Y5': 8.48}\n",
      "\n",
      "{'Y1': 1493.0, 'X2': 18.0, 'Y2': 16.54, 'X3': 14.0, 'Y3': 13.57, 'X4': 12.0, 'Y4': 12.42, 'X5': 9.0, 'Y5': 8.03}\n",
      "\n",
      "{'Y1': 1493.0, 'X2': 18.0, 'Y2': 15.18, 'X3': 14.0, 'Y3': 13.38, 'X4': 12.0, 'Y4': 13.56, 'X5': 9.0, 'Y5': 8.65}\n",
      "\n",
      "{'Y1': 1495.0, 'X2': 18.0, 'Y2': 17.18, 'X3': 14.0, 'Y3': 13.4, 'X4': 12.0, 'Y4': 12.29, 'X5': 9.0, 'Y5': 8.62}\n",
      "\n",
      "{'Y1': 1497.0, 'X2': 18.0, 'Y2': 21.45, 'X3': 14.0, 'Y3': 13.47, 'X4': 12.0, 'Y4': 9.83, 'X5': 9.0, 'Y5': 8.06}\n",
      "\n",
      "{'Y1': 1493.0, 'X2': 18.0, 'Y2': 12.76, 'X3': 14.0, 'Y3': 13.54, 'X4': 12.0, 'Y4': 10.2, 'X5': 9.0, 'Y5': 8.61}\n",
      "\n",
      "{'Y1': 1494.0, 'X2': 18.0, 'Y2': 11.96, 'X3': 14.0, 'Y3': 13.37, 'X4': 12.0, 'Y4': 11.06, 'X5': 9.0, 'Y5': 8.65}\n",
      "\n",
      "{'Y1': 1496.0, 'X2': 18.0, 'Y2': 19.98, 'X3': 14.0, 'Y3': 13.4, 'X4': 12.0, 'Y4': 9.92, 'X5': 9.0, 'Y5': 8.53}\n",
      "\n",
      "{'Y1': 1498.0, 'X2': 18.0, 'Y2': 12.78, 'X3': 14.0, 'Y3': 13.43, 'X4': 12.0, 'Y4': 9.78, 'X5': 9.0, 'Y5': 7.9}\n",
      "\n",
      "{'Y1': 1500.0, 'X2': 18.0, 'Y2': 10.97, 'X3': 14.0, 'Y3': 13.66, 'X4': 12.0, 'Y4': 11.46, 'X5': 9.0, 'Y5': 8.35}\n",
      "\n",
      "{'Y1': 1494.0, 'X2': 18.0, 'Y2': 8.21, 'X3': 14.0, 'Y3': 13.31, 'X4': 12.0, 'Y4': 12.35, 'X5': 9.0, 'Y5': 8.15}\n",
      "\n",
      "{'Y1': 1495.0, 'X2': 18.0, 'Y2': 14.08, 'X3': 14.0, 'Y3': 13.46, 'X4': 12.0, 'Y4': 13.61, 'X5': 9.0, 'Y5': 8.28}\n",
      "\n",
      "{'Y1': 1491.0, 'X2': 18.0, 'Y2': 12.91, 'X3': 14.0, 'Y3': 13.51, 'X4': 12.0, 'Y4': 10.64, 'X5': 9.0, 'Y5': 8.23}\n",
      "\n",
      "{'Y1': 1495.0, 'X2': 18.0, 'Y2': 18.86, 'X3': 14.0, 'Y3': 13.59, 'X4': 12.0, 'Y4': 11.54, 'X5': 9.0, 'Y5': 8.79}\n",
      "\n",
      "{'Y1': 1499.0, 'X2': 18.0, 'Y2': 9.98, 'X3': 14.0, 'Y3': 13.51, 'X4': 12.0, 'Y4': 12.62, 'X5': 9.0, 'Y5': 7.86}\n",
      "\n",
      "{'Y1': 1495.0, 'X2': 18.0, 'Y2': 17.48, 'X3': 14.0, 'Y3': 13.39, 'X4': 12.0, 'Y4': 11.52, 'X5': 9.0, 'Y5': 8.03}\n",
      "\n"
     ]
    }
   ],
   "source": [
    "def test_devices(fd):\n",
    "    working_devices = []\n",
    "    failed_devices = []\n",
    "\n",
    "    y2_std = fd['Y2'].std()\n",
    "    y3_std = fd['Y3'].std()\n",
    "    y4_std = fd['Y4'].std()\n",
    "    y5_std = fd['Y5'].std()\n",
    "    \n",
    "    y2_mean = fd['Y2'].mean()\n",
    "    y3_mean = fd['Y3'].mean()\n",
    "    y4_mean = fd['Y4'].mean()\n",
    "    y5_mean = fd['Y5'].mean()\n",
    "\n",
    "    # Iterate over each device in the dataframe\n",
    "    for i, row in fd.iterrows():\n",
    "        X_values = row[['X2', 'X3', 'X4', 'X5']].values\n",
    "        Y_values = row[['Y2', 'Y3', 'Y4', 'Y5']].values\n",
    "        \n",
    "        # Initialize a flag to track if all tests pass for the device\n",
    "        all_tests_pass = True\n",
    "        \n",
    "        # Iterate over each Y variable and its corresponding X variable\n",
    "        for j in range(len(X_values)):\n",
    "            X = X_values[j]\n",
    "            Y = Y_values[j]\n",
    "            std = y2_std if j == 0 else y3_std if j == 1 else y4_std if j == 2 else y5_std\n",
    "            mean = y2_mean if j == 0 else y3_mean if j == 1 else y4_mean if j == 2 else y5_mean\n",
    "           \n",
    "            # Check if the Y value is within the acceptable range\n",
    "            if (not (mean - std < Y < mean + std)) and (not (X - std < Y < X + std)):\n",
    "                all_tests_pass = False\n",
    "                break\n",
    "        \n",
    "        # Append the entire row to the corresponding list based on test results\n",
    "        if all_tests_pass:\n",
    "            working_devices.append(row)\n",
    "        else:\n",
    "            failed_devices.append(row)\n",
    "    \n",
    "    return working_devices, failed_devices\n",
    "\n",
    "# Call the function with the fd dataframe containing the device data\n",
    "working_devices, failed_devices = test_devices(df)\n",
    "\n",
    "print(\"Working Devices:\")\n",
    "for device in working_devices:\n",
    "    print(device.to_dict())\n",
    "    print()\n",
    "\n",
    "print(\"Failed Devices:\")\n",
    "for device in failed_devices:\n",
    "    print(device.to_dict())\n",
    "    print()"
   ]
  },
  {
   "cell_type": "code",
   "execution_count": 316,
   "id": "94ce7b3f",
   "metadata": {},
   "outputs": [
    {
     "data": {
      "image/png": "[encoded data removed]",
      "text/plain": [
       "<Figure size 640x480 with 1 Axes>"
      ]
     },
     "metadata": {},
     "output_type": "display_data"
    }
   ],
   "source": [
    "#I want to show the prcentage of passing the test:\n",
    "num_failed_devices = len(failed_devices)\n",
    "num_working_devices = len(working_devices)\n",
    "\n",
    "# Calculate the percentages\n",
    "total_devices = num_failed_devices + num_working_devices\n",
    "percent_failed = (num_failed_devices / total_devices) * 100\n",
    "percent_working = (num_working_devices / total_devices) * 100\n",
    "\n",
    "labels = ['Failed Devices', 'Working Devices']\n",
    "percentages = [percent_failed, percent_working]\n",
    "\n",
    "plt.bar(labels, percentages)\n",
    "plt.title('Percentage of Failed and Working Devices')\n",
    "plt.xlabel('Device Status')\n",
    "plt.ylabel('Percentage')\n",
    "plt.show()"
   ]
  },
  {
   "cell_type": "code",
   "execution_count": 317,
   "id": "01338784",
   "metadata": {},
   "outputs": [],
   "source": [
    "#to conclude, we can see that more than 60% of the devices failed my tests. of course i use a lot of assumptions so probably \n",
    "#with more information of the data, i will be able to try making tests with more succesful precentage."
   ]
  },
  {
   "cell_type": "code",
   "execution_count": null,
   "id": "6964d072",
   "metadata": {},
   "outputs": [],
   "source": [
    "#Thank you for reading, Leehe :) "
   ]
  }
 ],
 "metadata": {
  "kernelspec": {
   "display_name": "Python 3 (ipykernel)",
   "language": "python",
   "name": "python3"
  },
  "language_info": {
   "codemirror_mode": {
    "name": "ipython",
    "version": 3
   },
   "file_extension": ".py",
   "mimetype": "text/x-python",
   "name": "python",
   "nbconvert_exporter": "python",
   "pygments_lexer": "ipython3",
   "version": "3.11.4"
  }
 },
 "nbformat": 4,
 "nbformat_minor": 5
}
